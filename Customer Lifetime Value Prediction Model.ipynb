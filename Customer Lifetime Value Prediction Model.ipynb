{
 "cells": [
  {
   "cell_type": "markdown",
   "id": "97490ecc-e9f9-421f-b0cb-4b19471b5ee4",
   "metadata": {},
   "source": [
    "# CLEAR AND PRECISE STEPS"
   ]
  },
  {
   "cell_type": "markdown",
   "id": "22175f01-9ce9-476b-8723-c8894829202d",
   "metadata": {},
   "source": [
    "# 1. Load and Explore the Dataset"
   ]
  },
  {
   "cell_type": "code",
   "execution_count": 5,
   "id": "a76cdbf4-5f47-4790-af8d-99d6e4e466e5",
   "metadata": {},
   "outputs": [
    {
     "name": "stdout",
     "output_type": "stream",
     "text": [
      "  CustomerID OrderID  OrderDate  OrderAmount\n",
      "0      C0103  O00001 2022-08-03        51.67\n",
      "1      C0436  O00002 2023-09-24        40.54\n",
      "2      C0349  O00003 2023-07-21        67.71\n",
      "3      C0271  O00004 2022-01-27        85.04\n",
      "4      C0107  O00005 2023-09-22        27.23\n",
      "<class 'pandas.core.frame.DataFrame'>\n",
      "RangeIndex: 5000 entries, 0 to 4999\n",
      "Data columns (total 4 columns):\n",
      " #   Column       Non-Null Count  Dtype         \n",
      "---  ------       --------------  -----         \n",
      " 0   CustomerID   5000 non-null   object        \n",
      " 1   OrderID      5000 non-null   object        \n",
      " 2   OrderDate    5000 non-null   datetime64[ns]\n",
      " 3   OrderAmount  5000 non-null   float64       \n",
      "dtypes: datetime64[ns](1), float64(1), object(2)\n",
      "memory usage: 156.4+ KB\n",
      "None\n",
      "                        OrderDate  OrderAmount\n",
      "count                        5000  5000.000000\n",
      "mean   2023-01-01 11:35:48.480000    96.522448\n",
      "min           2022-01-01 00:00:00     0.010000\n",
      "25%           2022-07-02 00:00:00    28.630000\n",
      "50%           2023-01-03 00:00:00    67.420000\n",
      "75%           2023-07-01 06:00:00   133.325000\n",
      "max           2023-12-31 00:00:00   802.620000\n",
      "std                           NaN    95.087763\n"
     ]
    }
   ],
   "source": [
    "import pandas as pd\n",
    "\n",
    "# Load data\n",
    "df = pd.read_csv(r\"D:\\Downloads\\synthetic_customer_transactions.csv\")\n",
    "\n",
    "# Convert OrderDate to datetime\n",
    "df['OrderDate'] = pd.to_datetime(df['OrderDate'])\n",
    "\n",
    "# Quick overview\n",
    "print(df.head())\n",
    "print(df.info())\n",
    "print(df.describe())"
   ]
  },
  {
   "cell_type": "markdown",
   "id": "124db5a1-1c9a-41a9-9d4e-88291576089e",
   "metadata": {},
   "source": [
    "**Important to check**\n",
    "\n",
    "- OrderDate is in datetime format\n",
    "- No missing values in key columns: CustomerID, OrderID, OrderAmount, OrderDate"
   ]
  },
  {
   "cell_type": "markdown",
   "id": "45af4f83-28fb-4003-bf51-eaacb5176ba9",
   "metadata": {},
   "source": [
    "# 2. Feature Engineering (Recency, Frequency, AOV)"
   ]
  },
  {
   "cell_type": "code",
   "execution_count": 9,
   "id": "4296b91e-e046-4987-8bfb-80c4bc4cf4c5",
   "metadata": {},
   "outputs": [],
   "source": [
    "import datetime as dt\n",
    "\n",
    "# Snapshot date = 1 day after the most recent order\n",
    "snapshot_date = df['OrderDate'].max() + dt.timedelta(days=1)"
   ]
  },
  {
   "cell_type": "code",
   "execution_count": 11,
   "id": "661b130a-6c77-4f21-9b49-9dc238437d9b",
   "metadata": {},
   "outputs": [],
   "source": [
    "# Group by customer and calculate RFM features\n",
    "rfm = df.groupby('CustomerID').agg({\n",
    "    'OrderDate': lambda x: (snapshot_date - x.max()).days,  # Recency\n",
    "    'OrderID': 'nunique',                                   # Frequency\n",
    "    'OrderAmount': ['sum', 'mean']                          # Monetary (Total Spend), AOV\n",
    "}).reset_index()"
   ]
  },
  {
   "cell_type": "code",
   "execution_count": 13,
   "id": "39eb4aed-988f-42e5-b857-4cc41db607a9",
   "metadata": {},
   "outputs": [],
   "source": [
    "# Rename columns\n",
    "rfm.columns = ['CustomerID', 'Recency', 'Frequency', 'Monetary', 'AOV']"
   ]
  },
  {
   "cell_type": "markdown",
   "id": "48408d7e-f4cc-45cf-8958-683651a9160a",
   "metadata": {},
   "source": [
    "**We have a customer-level dataset ready for modeling**"
   ]
  },
  {
   "cell_type": "markdown",
   "id": "8a505e3a-8bda-47e7-aaba-ff61e4b02659",
   "metadata": {},
   "source": [
    "#  3. Model Building"
   ]
  },
  {
   "cell_type": "code",
   "execution_count": 19,
   "id": "17da40ce-318c-4c8a-9da5-1bae0f6f0ee3",
   "metadata": {},
   "outputs": [],
   "source": [
    "# predicting Monetary (Total Spend) as proxy for LTV.\n",
    "\n",
    "from sklearn.ensemble import RandomForestRegressor\n",
    "from sklearn.model_selection import train_test_split\n",
    "from sklearn.metrics import mean_absolute_error, mean_squared_error\n",
    "import numpy as np"
   ]
  },
  {
   "cell_type": "code",
   "execution_count": 21,
   "id": "71493a3e-f26a-47c3-8e04-41e4409187ee",
   "metadata": {},
   "outputs": [],
   "source": [
    "# Features and target\n",
    "X = rfm[['Recency', 'Frequency', 'AOV']]\n",
    "y = rfm['Monetary']"
   ]
  },
  {
   "cell_type": "code",
   "execution_count": 23,
   "id": "882e42ab-3326-4a38-9803-49c6ac703d7a",
   "metadata": {},
   "outputs": [],
   "source": [
    "# Train-test split\n",
    "X_train, X_test, y_train, y_test = train_test_split(X, y, test_size=0.2, random_state=42)"
   ]
  },
  {
   "cell_type": "code",
   "execution_count": 25,
   "id": "358efc3e-dbef-4886-8efa-9ec3ffd98093",
   "metadata": {},
   "outputs": [
    {
     "data": {
      "text/html": [
       "<style>#sk-container-id-1 {\n",
       "  /* Definition of color scheme common for light and dark mode */\n",
       "  --sklearn-color-text: black;\n",
       "  --sklearn-color-line: gray;\n",
       "  /* Definition of color scheme for unfitted estimators */\n",
       "  --sklearn-color-unfitted-level-0: #fff5e6;\n",
       "  --sklearn-color-unfitted-level-1: #f6e4d2;\n",
       "  --sklearn-color-unfitted-level-2: #ffe0b3;\n",
       "  --sklearn-color-unfitted-level-3: chocolate;\n",
       "  /* Definition of color scheme for fitted estimators */\n",
       "  --sklearn-color-fitted-level-0: #f0f8ff;\n",
       "  --sklearn-color-fitted-level-1: #d4ebff;\n",
       "  --sklearn-color-fitted-level-2: #b3dbfd;\n",
       "  --sklearn-color-fitted-level-3: cornflowerblue;\n",
       "\n",
       "  /* Specific color for light theme */\n",
       "  --sklearn-color-text-on-default-background: var(--sg-text-color, var(--theme-code-foreground, var(--jp-content-font-color1, black)));\n",
       "  --sklearn-color-background: var(--sg-background-color, var(--theme-background, var(--jp-layout-color0, white)));\n",
       "  --sklearn-color-border-box: var(--sg-text-color, var(--theme-code-foreground, var(--jp-content-font-color1, black)));\n",
       "  --sklearn-color-icon: #696969;\n",
       "\n",
       "  @media (prefers-color-scheme: dark) {\n",
       "    /* Redefinition of color scheme for dark theme */\n",
       "    --sklearn-color-text-on-default-background: var(--sg-text-color, var(--theme-code-foreground, var(--jp-content-font-color1, white)));\n",
       "    --sklearn-color-background: var(--sg-background-color, var(--theme-background, var(--jp-layout-color0, #111)));\n",
       "    --sklearn-color-border-box: var(--sg-text-color, var(--theme-code-foreground, var(--jp-content-font-color1, white)));\n",
       "    --sklearn-color-icon: #878787;\n",
       "  }\n",
       "}\n",
       "\n",
       "#sk-container-id-1 {\n",
       "  color: var(--sklearn-color-text);\n",
       "}\n",
       "\n",
       "#sk-container-id-1 pre {\n",
       "  padding: 0;\n",
       "}\n",
       "\n",
       "#sk-container-id-1 input.sk-hidden--visually {\n",
       "  border: 0;\n",
       "  clip: rect(1px 1px 1px 1px);\n",
       "  clip: rect(1px, 1px, 1px, 1px);\n",
       "  height: 1px;\n",
       "  margin: -1px;\n",
       "  overflow: hidden;\n",
       "  padding: 0;\n",
       "  position: absolute;\n",
       "  width: 1px;\n",
       "}\n",
       "\n",
       "#sk-container-id-1 div.sk-dashed-wrapped {\n",
       "  border: 1px dashed var(--sklearn-color-line);\n",
       "  margin: 0 0.4em 0.5em 0.4em;\n",
       "  box-sizing: border-box;\n",
       "  padding-bottom: 0.4em;\n",
       "  background-color: var(--sklearn-color-background);\n",
       "}\n",
       "\n",
       "#sk-container-id-1 div.sk-container {\n",
       "  /* jupyter's `normalize.less` sets `[hidden] { display: none; }`\n",
       "     but bootstrap.min.css set `[hidden] { display: none !important; }`\n",
       "     so we also need the `!important` here to be able to override the\n",
       "     default hidden behavior on the sphinx rendered scikit-learn.org.\n",
       "     See: https://github.com/scikit-learn/scikit-learn/issues/21755 */\n",
       "  display: inline-block !important;\n",
       "  position: relative;\n",
       "}\n",
       "\n",
       "#sk-container-id-1 div.sk-text-repr-fallback {\n",
       "  display: none;\n",
       "}\n",
       "\n",
       "div.sk-parallel-item,\n",
       "div.sk-serial,\n",
       "div.sk-item {\n",
       "  /* draw centered vertical line to link estimators */\n",
       "  background-image: linear-gradient(var(--sklearn-color-text-on-default-background), var(--sklearn-color-text-on-default-background));\n",
       "  background-size: 2px 100%;\n",
       "  background-repeat: no-repeat;\n",
       "  background-position: center center;\n",
       "}\n",
       "\n",
       "/* Parallel-specific style estimator block */\n",
       "\n",
       "#sk-container-id-1 div.sk-parallel-item::after {\n",
       "  content: \"\";\n",
       "  width: 100%;\n",
       "  border-bottom: 2px solid var(--sklearn-color-text-on-default-background);\n",
       "  flex-grow: 1;\n",
       "}\n",
       "\n",
       "#sk-container-id-1 div.sk-parallel {\n",
       "  display: flex;\n",
       "  align-items: stretch;\n",
       "  justify-content: center;\n",
       "  background-color: var(--sklearn-color-background);\n",
       "  position: relative;\n",
       "}\n",
       "\n",
       "#sk-container-id-1 div.sk-parallel-item {\n",
       "  display: flex;\n",
       "  flex-direction: column;\n",
       "}\n",
       "\n",
       "#sk-container-id-1 div.sk-parallel-item:first-child::after {\n",
       "  align-self: flex-end;\n",
       "  width: 50%;\n",
       "}\n",
       "\n",
       "#sk-container-id-1 div.sk-parallel-item:last-child::after {\n",
       "  align-self: flex-start;\n",
       "  width: 50%;\n",
       "}\n",
       "\n",
       "#sk-container-id-1 div.sk-parallel-item:only-child::after {\n",
       "  width: 0;\n",
       "}\n",
       "\n",
       "/* Serial-specific style estimator block */\n",
       "\n",
       "#sk-container-id-1 div.sk-serial {\n",
       "  display: flex;\n",
       "  flex-direction: column;\n",
       "  align-items: center;\n",
       "  background-color: var(--sklearn-color-background);\n",
       "  padding-right: 1em;\n",
       "  padding-left: 1em;\n",
       "}\n",
       "\n",
       "\n",
       "/* Toggleable style: style used for estimator/Pipeline/ColumnTransformer box that is\n",
       "clickable and can be expanded/collapsed.\n",
       "- Pipeline and ColumnTransformer use this feature and define the default style\n",
       "- Estimators will overwrite some part of the style using the `sk-estimator` class\n",
       "*/\n",
       "\n",
       "/* Pipeline and ColumnTransformer style (default) */\n",
       "\n",
       "#sk-container-id-1 div.sk-toggleable {\n",
       "  /* Default theme specific background. It is overwritten whether we have a\n",
       "  specific estimator or a Pipeline/ColumnTransformer */\n",
       "  background-color: var(--sklearn-color-background);\n",
       "}\n",
       "\n",
       "/* Toggleable label */\n",
       "#sk-container-id-1 label.sk-toggleable__label {\n",
       "  cursor: pointer;\n",
       "  display: block;\n",
       "  width: 100%;\n",
       "  margin-bottom: 0;\n",
       "  padding: 0.5em;\n",
       "  box-sizing: border-box;\n",
       "  text-align: center;\n",
       "}\n",
       "\n",
       "#sk-container-id-1 label.sk-toggleable__label-arrow:before {\n",
       "  /* Arrow on the left of the label */\n",
       "  content: \"▸\";\n",
       "  float: left;\n",
       "  margin-right: 0.25em;\n",
       "  color: var(--sklearn-color-icon);\n",
       "}\n",
       "\n",
       "#sk-container-id-1 label.sk-toggleable__label-arrow:hover:before {\n",
       "  color: var(--sklearn-color-text);\n",
       "}\n",
       "\n",
       "/* Toggleable content - dropdown */\n",
       "\n",
       "#sk-container-id-1 div.sk-toggleable__content {\n",
       "  max-height: 0;\n",
       "  max-width: 0;\n",
       "  overflow: hidden;\n",
       "  text-align: left;\n",
       "  /* unfitted */\n",
       "  background-color: var(--sklearn-color-unfitted-level-0);\n",
       "}\n",
       "\n",
       "#sk-container-id-1 div.sk-toggleable__content.fitted {\n",
       "  /* fitted */\n",
       "  background-color: var(--sklearn-color-fitted-level-0);\n",
       "}\n",
       "\n",
       "#sk-container-id-1 div.sk-toggleable__content pre {\n",
       "  margin: 0.2em;\n",
       "  border-radius: 0.25em;\n",
       "  color: var(--sklearn-color-text);\n",
       "  /* unfitted */\n",
       "  background-color: var(--sklearn-color-unfitted-level-0);\n",
       "}\n",
       "\n",
       "#sk-container-id-1 div.sk-toggleable__content.fitted pre {\n",
       "  /* unfitted */\n",
       "  background-color: var(--sklearn-color-fitted-level-0);\n",
       "}\n",
       "\n",
       "#sk-container-id-1 input.sk-toggleable__control:checked~div.sk-toggleable__content {\n",
       "  /* Expand drop-down */\n",
       "  max-height: 200px;\n",
       "  max-width: 100%;\n",
       "  overflow: auto;\n",
       "}\n",
       "\n",
       "#sk-container-id-1 input.sk-toggleable__control:checked~label.sk-toggleable__label-arrow:before {\n",
       "  content: \"▾\";\n",
       "}\n",
       "\n",
       "/* Pipeline/ColumnTransformer-specific style */\n",
       "\n",
       "#sk-container-id-1 div.sk-label input.sk-toggleable__control:checked~label.sk-toggleable__label {\n",
       "  color: var(--sklearn-color-text);\n",
       "  background-color: var(--sklearn-color-unfitted-level-2);\n",
       "}\n",
       "\n",
       "#sk-container-id-1 div.sk-label.fitted input.sk-toggleable__control:checked~label.sk-toggleable__label {\n",
       "  background-color: var(--sklearn-color-fitted-level-2);\n",
       "}\n",
       "\n",
       "/* Estimator-specific style */\n",
       "\n",
       "/* Colorize estimator box */\n",
       "#sk-container-id-1 div.sk-estimator input.sk-toggleable__control:checked~label.sk-toggleable__label {\n",
       "  /* unfitted */\n",
       "  background-color: var(--sklearn-color-unfitted-level-2);\n",
       "}\n",
       "\n",
       "#sk-container-id-1 div.sk-estimator.fitted input.sk-toggleable__control:checked~label.sk-toggleable__label {\n",
       "  /* fitted */\n",
       "  background-color: var(--sklearn-color-fitted-level-2);\n",
       "}\n",
       "\n",
       "#sk-container-id-1 div.sk-label label.sk-toggleable__label,\n",
       "#sk-container-id-1 div.sk-label label {\n",
       "  /* The background is the default theme color */\n",
       "  color: var(--sklearn-color-text-on-default-background);\n",
       "}\n",
       "\n",
       "/* On hover, darken the color of the background */\n",
       "#sk-container-id-1 div.sk-label:hover label.sk-toggleable__label {\n",
       "  color: var(--sklearn-color-text);\n",
       "  background-color: var(--sklearn-color-unfitted-level-2);\n",
       "}\n",
       "\n",
       "/* Label box, darken color on hover, fitted */\n",
       "#sk-container-id-1 div.sk-label.fitted:hover label.sk-toggleable__label.fitted {\n",
       "  color: var(--sklearn-color-text);\n",
       "  background-color: var(--sklearn-color-fitted-level-2);\n",
       "}\n",
       "\n",
       "/* Estimator label */\n",
       "\n",
       "#sk-container-id-1 div.sk-label label {\n",
       "  font-family: monospace;\n",
       "  font-weight: bold;\n",
       "  display: inline-block;\n",
       "  line-height: 1.2em;\n",
       "}\n",
       "\n",
       "#sk-container-id-1 div.sk-label-container {\n",
       "  text-align: center;\n",
       "}\n",
       "\n",
       "/* Estimator-specific */\n",
       "#sk-container-id-1 div.sk-estimator {\n",
       "  font-family: monospace;\n",
       "  border: 1px dotted var(--sklearn-color-border-box);\n",
       "  border-radius: 0.25em;\n",
       "  box-sizing: border-box;\n",
       "  margin-bottom: 0.5em;\n",
       "  /* unfitted */\n",
       "  background-color: var(--sklearn-color-unfitted-level-0);\n",
       "}\n",
       "\n",
       "#sk-container-id-1 div.sk-estimator.fitted {\n",
       "  /* fitted */\n",
       "  background-color: var(--sklearn-color-fitted-level-0);\n",
       "}\n",
       "\n",
       "/* on hover */\n",
       "#sk-container-id-1 div.sk-estimator:hover {\n",
       "  /* unfitted */\n",
       "  background-color: var(--sklearn-color-unfitted-level-2);\n",
       "}\n",
       "\n",
       "#sk-container-id-1 div.sk-estimator.fitted:hover {\n",
       "  /* fitted */\n",
       "  background-color: var(--sklearn-color-fitted-level-2);\n",
       "}\n",
       "\n",
       "/* Specification for estimator info (e.g. \"i\" and \"?\") */\n",
       "\n",
       "/* Common style for \"i\" and \"?\" */\n",
       "\n",
       ".sk-estimator-doc-link,\n",
       "a:link.sk-estimator-doc-link,\n",
       "a:visited.sk-estimator-doc-link {\n",
       "  float: right;\n",
       "  font-size: smaller;\n",
       "  line-height: 1em;\n",
       "  font-family: monospace;\n",
       "  background-color: var(--sklearn-color-background);\n",
       "  border-radius: 1em;\n",
       "  height: 1em;\n",
       "  width: 1em;\n",
       "  text-decoration: none !important;\n",
       "  margin-left: 1ex;\n",
       "  /* unfitted */\n",
       "  border: var(--sklearn-color-unfitted-level-1) 1pt solid;\n",
       "  color: var(--sklearn-color-unfitted-level-1);\n",
       "}\n",
       "\n",
       ".sk-estimator-doc-link.fitted,\n",
       "a:link.sk-estimator-doc-link.fitted,\n",
       "a:visited.sk-estimator-doc-link.fitted {\n",
       "  /* fitted */\n",
       "  border: var(--sklearn-color-fitted-level-1) 1pt solid;\n",
       "  color: var(--sklearn-color-fitted-level-1);\n",
       "}\n",
       "\n",
       "/* On hover */\n",
       "div.sk-estimator:hover .sk-estimator-doc-link:hover,\n",
       ".sk-estimator-doc-link:hover,\n",
       "div.sk-label-container:hover .sk-estimator-doc-link:hover,\n",
       ".sk-estimator-doc-link:hover {\n",
       "  /* unfitted */\n",
       "  background-color: var(--sklearn-color-unfitted-level-3);\n",
       "  color: var(--sklearn-color-background);\n",
       "  text-decoration: none;\n",
       "}\n",
       "\n",
       "div.sk-estimator.fitted:hover .sk-estimator-doc-link.fitted:hover,\n",
       ".sk-estimator-doc-link.fitted:hover,\n",
       "div.sk-label-container:hover .sk-estimator-doc-link.fitted:hover,\n",
       ".sk-estimator-doc-link.fitted:hover {\n",
       "  /* fitted */\n",
       "  background-color: var(--sklearn-color-fitted-level-3);\n",
       "  color: var(--sklearn-color-background);\n",
       "  text-decoration: none;\n",
       "}\n",
       "\n",
       "/* Span, style for the box shown on hovering the info icon */\n",
       ".sk-estimator-doc-link span {\n",
       "  display: none;\n",
       "  z-index: 9999;\n",
       "  position: relative;\n",
       "  font-weight: normal;\n",
       "  right: .2ex;\n",
       "  padding: .5ex;\n",
       "  margin: .5ex;\n",
       "  width: min-content;\n",
       "  min-width: 20ex;\n",
       "  max-width: 50ex;\n",
       "  color: var(--sklearn-color-text);\n",
       "  box-shadow: 2pt 2pt 4pt #999;\n",
       "  /* unfitted */\n",
       "  background: var(--sklearn-color-unfitted-level-0);\n",
       "  border: .5pt solid var(--sklearn-color-unfitted-level-3);\n",
       "}\n",
       "\n",
       ".sk-estimator-doc-link.fitted span {\n",
       "  /* fitted */\n",
       "  background: var(--sklearn-color-fitted-level-0);\n",
       "  border: var(--sklearn-color-fitted-level-3);\n",
       "}\n",
       "\n",
       ".sk-estimator-doc-link:hover span {\n",
       "  display: block;\n",
       "}\n",
       "\n",
       "/* \"?\"-specific style due to the `<a>` HTML tag */\n",
       "\n",
       "#sk-container-id-1 a.estimator_doc_link {\n",
       "  float: right;\n",
       "  font-size: 1rem;\n",
       "  line-height: 1em;\n",
       "  font-family: monospace;\n",
       "  background-color: var(--sklearn-color-background);\n",
       "  border-radius: 1rem;\n",
       "  height: 1rem;\n",
       "  width: 1rem;\n",
       "  text-decoration: none;\n",
       "  /* unfitted */\n",
       "  color: var(--sklearn-color-unfitted-level-1);\n",
       "  border: var(--sklearn-color-unfitted-level-1) 1pt solid;\n",
       "}\n",
       "\n",
       "#sk-container-id-1 a.estimator_doc_link.fitted {\n",
       "  /* fitted */\n",
       "  border: var(--sklearn-color-fitted-level-1) 1pt solid;\n",
       "  color: var(--sklearn-color-fitted-level-1);\n",
       "}\n",
       "\n",
       "/* On hover */\n",
       "#sk-container-id-1 a.estimator_doc_link:hover {\n",
       "  /* unfitted */\n",
       "  background-color: var(--sklearn-color-unfitted-level-3);\n",
       "  color: var(--sklearn-color-background);\n",
       "  text-decoration: none;\n",
       "}\n",
       "\n",
       "#sk-container-id-1 a.estimator_doc_link.fitted:hover {\n",
       "  /* fitted */\n",
       "  background-color: var(--sklearn-color-fitted-level-3);\n",
       "}\n",
       "</style><div id=\"sk-container-id-1\" class=\"sk-top-container\"><div class=\"sk-text-repr-fallback\"><pre>RandomForestRegressor(random_state=42)</pre><b>In a Jupyter environment, please rerun this cell to show the HTML representation or trust the notebook. <br />On GitHub, the HTML representation is unable to render, please try loading this page with nbviewer.org.</b></div><div class=\"sk-container\" hidden><div class=\"sk-item\"><div class=\"sk-estimator fitted sk-toggleable\"><input class=\"sk-toggleable__control sk-hidden--visually\" id=\"sk-estimator-id-1\" type=\"checkbox\" checked><label for=\"sk-estimator-id-1\" class=\"sk-toggleable__label fitted sk-toggleable__label-arrow fitted\">&nbsp;&nbsp;RandomForestRegressor<a class=\"sk-estimator-doc-link fitted\" rel=\"noreferrer\" target=\"_blank\" href=\"https://scikit-learn.org/1.5/modules/generated/sklearn.ensemble.RandomForestRegressor.html\">?<span>Documentation for RandomForestRegressor</span></a><span class=\"sk-estimator-doc-link fitted\">i<span>Fitted</span></span></label><div class=\"sk-toggleable__content fitted\"><pre>RandomForestRegressor(random_state=42)</pre></div> </div></div></div></div>"
      ],
      "text/plain": [
       "RandomForestRegressor(random_state=42)"
      ]
     },
     "execution_count": 25,
     "metadata": {},
     "output_type": "execute_result"
    }
   ],
   "source": [
    "# Train Random Forest model\n",
    "rf_model = RandomForestRegressor(n_estimators=100, random_state=42)\n",
    "rf_model.fit(X_train, y_train)"
   ]
  },
  {
   "cell_type": "code",
   "execution_count": 27,
   "id": "289d0181-6d0b-43c7-b727-a6ebf3783ec5",
   "metadata": {},
   "outputs": [],
   "source": [
    "# Predictions\n",
    "y_pred = rf_model.predict(X_test)"
   ]
  },
  {
   "cell_type": "code",
   "execution_count": 32,
   "id": "62e117cf-4988-4e59-816c-832438e52c80",
   "metadata": {},
   "outputs": [
    {
     "name": "stdout",
     "output_type": "stream",
     "text": [
      "MAE: 35.98\n",
      "RMSE: 89.33\n"
     ]
    }
   ],
   "source": [
    "# Evaluation\n",
    "mae = mean_absolute_error(y_test, y_pred)\n",
    "rmse = np.sqrt(mean_squared_error(y_test, y_pred))\n",
    "\n",
    "print(f\"MAE: {mae:.2f}\")\n",
    "print(f\"RMSE: {rmse:.2f}\")"
   ]
  },
  {
   "cell_type": "markdown",
   "id": "01e32e69-05d6-4985-bdb8-9dc661fcaf92",
   "metadata": {},
   "source": [
    "# 4. Predict and Segment Customers"
   ]
  },
  {
   "cell_type": "code",
   "execution_count": 35,
   "id": "257dc5a7-792f-4a0d-bdce-3697218b7231",
   "metadata": {},
   "outputs": [],
   "source": [
    "# Predict LTV using trained Random Forest model\n",
    "rfm['Predicted_LTV'] = rf_model.predict(X)\n",
    "\n",
    "# Segment customers\n",
    "def segment(ltv):\n",
    "    if ltv >= rfm['Predicted_LTV'].quantile(0.75):\n",
    "        return 'High Value'\n",
    "    elif ltv >= rfm['Predicted_LTV'].quantile(0.50):\n",
    "        return 'Mid Value'\n",
    "    else:\n",
    "        return 'Low Value'\n",
    "\n",
    "rfm['Segment'] = rfm['Predicted_LTV'].apply(segment)"
   ]
  },
  {
   "cell_type": "markdown",
   "id": "24a88803-03b7-49da-8767-86c6f5539a58",
   "metadata": {},
   "source": [
    "# 5. Save the results"
   ]
  },
  {
   "cell_type": "code",
   "execution_count": 40,
   "id": "17ebc7a0-062d-43d3-947a-245d2bf92901",
   "metadata": {},
   "outputs": [],
   "source": [
    "rfm.to_csv(\"final_ltv_predictions.csv\", index=False)"
   ]
  },
  {
   "cell_type": "markdown",
   "id": "3f87db75-3c76-496b-9349-0993d55d5a43",
   "metadata": {},
   "source": [
    "# 6. Visualization"
   ]
  },
  {
   "cell_type": "code",
   "execution_count": 43,
   "id": "cb9eabf6-e97f-480d-acc6-539cf0b0252d",
   "metadata": {},
   "outputs": [],
   "source": [
    "import seaborn as sns\n",
    "import matplotlib.pyplot as plt"
   ]
  },
  {
   "cell_type": "code",
   "execution_count": 45,
   "id": "609d5b9a-399f-4e04-9b67-834e69b46596",
   "metadata": {},
   "outputs": [
    {
     "data": {
      "image/png": "[encoded data removed]",
      "text/plain": [
       "<Figure size 640x480 with 1 Axes>"
      ]
     },
     "metadata": {},
     "output_type": "display_data"
    }
   ],
   "source": [
    "# Distribution of Predicted LTV\n",
    "sns.histplot(rfm['Predicted_LTV'], bins=30, kde=True)\n",
    "plt.title(\"Predicted LTV Distribution\")\n",
    "plt.show()"
   ]
  },
  {
   "cell_type": "code",
   "execution_count": 47,
   "id": "5c4603dc-3306-4e92-9a72-001fa31461a1",
   "metadata": {},
   "outputs": [
    {
     "data": {
      "image/png": "[encoded data removed]",
      "text/plain": [
       "<Figure size 640x480 with 1 Axes>"
      ]
     },
     "metadata": {},
     "output_type": "display_data"
    }
   ],
   "source": [
    "# Segment counts\n",
    "sns.countplot(data=rfm, x='Segment', order=['High Value', 'Mid Value', 'Low Value'])\n",
    "plt.title(\"Customer Segments by Predicted LTV\")\n",
    "plt.show()"
   ]
  },
  {
   "cell_type": "markdown",
   "id": "44b0be15-7ffa-4ac4-a9f4-28b5ec29eb2c",
   "metadata": {},
   "source": [
    "# ALL TOGETHER STEPS"
   ]
  },
  {
   "cell_type": "markdown",
   "id": "844ac993-666b-48f6-ae40-34c23d0b6590",
   "metadata": {},
   "source": [
    "**It demonstrates the end-to-end pipeline for predicting customer lifetime value model using purchase behaviour**"
   ]
  },
  {
   "cell_type": "markdown",
   "id": "a5daf20d-8585-4a55-b36b-2770d3a59092",
   "metadata": {},
   "source": [
    "# 1. Importing Libraries"
   ]
  },
  {
   "cell_type": "code",
   "execution_count": 62,
   "id": "c74ec689-4207-442b-803c-a69b6eff34cb",
   "metadata": {},
   "outputs": [],
   "source": [
    "import pandas as pd\n",
    "import numpy as np\n",
    "import matplotlib.pyplot as plt\n",
    "import seaborn as sns\n",
    "from sklearn.ensemble import RandomForestRegressor\n",
    "from sklearn.model_selection import train_test_split\n",
    "from sklearn.metrics import mean_absolute_error, mean_squared_error\n",
    "import datetime as dt"
   ]
  },
  {
   "cell_type": "markdown",
   "id": "db126265-9027-4507-a05a-b8c6578264ef",
   "metadata": {},
   "source": [
    "# 2. Loading Dataset"
   ]
  },
  {
   "cell_type": "code",
   "execution_count": 65,
   "id": "de13d63f-e100-4d59-be0c-b5491059bace",
   "metadata": {},
   "outputs": [
    {
     "data": {
      "text/html": [
       "<div>\n",
       "<style scoped>\n",
       "    .dataframe tbody tr th:only-of-type {\n",
       "        vertical-align: middle;\n",
       "    }\n",
       "\n",
       "    .dataframe tbody tr th {\n",
       "        vertical-align: top;\n",
       "    }\n",
       "\n",
       "    .dataframe thead th {\n",
       "        text-align: right;\n",
       "    }\n",
       "</style>\n",
       "<table border=\"1\" class=\"dataframe\">\n",
       "  <thead>\n",
       "    <tr style=\"text-align: right;\">\n",
       "      <th></th>\n",
       "      <th>CustomerID</th>\n",
       "      <th>OrderID</th>\n",
       "      <th>OrderDate</th>\n",
       "      <th>OrderAmount</th>\n",
       "    </tr>\n",
       "  </thead>\n",
       "  <tbody>\n",
       "    <tr>\n",
       "      <th>0</th>\n",
       "      <td>C0103</td>\n",
       "      <td>O00001</td>\n",
       "      <td>2022-08-03</td>\n",
       "      <td>51.67</td>\n",
       "    </tr>\n",
       "    <tr>\n",
       "      <th>1</th>\n",
       "      <td>C0436</td>\n",
       "      <td>O00002</td>\n",
       "      <td>2023-09-24</td>\n",
       "      <td>40.54</td>\n",
       "    </tr>\n",
       "    <tr>\n",
       "      <th>2</th>\n",
       "      <td>C0349</td>\n",
       "      <td>O00003</td>\n",
       "      <td>2023-07-21</td>\n",
       "      <td>67.71</td>\n",
       "    </tr>\n",
       "    <tr>\n",
       "      <th>3</th>\n",
       "      <td>C0271</td>\n",
       "      <td>O00004</td>\n",
       "      <td>2022-01-27</td>\n",
       "      <td>85.04</td>\n",
       "    </tr>\n",
       "    <tr>\n",
       "      <th>4</th>\n",
       "      <td>C0107</td>\n",
       "      <td>O00005</td>\n",
       "      <td>2023-09-22</td>\n",
       "      <td>27.23</td>\n",
       "    </tr>\n",
       "  </tbody>\n",
       "</table>\n",
       "</div>"
      ],
      "text/plain": [
       "  CustomerID OrderID  OrderDate  OrderAmount\n",
       "0      C0103  O00001 2022-08-03        51.67\n",
       "1      C0436  O00002 2023-09-24        40.54\n",
       "2      C0349  O00003 2023-07-21        67.71\n",
       "3      C0271  O00004 2022-01-27        85.04\n",
       "4      C0107  O00005 2023-09-22        27.23"
      ]
     },
     "execution_count": 65,
     "metadata": {},
     "output_type": "execute_result"
    }
   ],
   "source": [
    "df = pd.read_csv(r\"D:\\Downloads\\synthetic_customer_transactions.csv\")\n",
    "df['OrderDate'] = pd.to_datetime(df['OrderDate'])\n",
    "df.head()"
   ]
  },
  {
   "cell_type": "markdown",
   "id": "30726e86-8c92-476b-b2ea-221b1a606a8f",
   "metadata": {},
   "source": [
    "# 3. Feature Engineering"
   ]
  },
  {
   "cell_type": "code",
   "execution_count": 68,
   "id": "caf589af-cded-4802-affe-4669b05571a2",
   "metadata": {},
   "outputs": [
    {
     "data": {
      "text/html": [
       "<div>\n",
       "<style scoped>\n",
       "    .dataframe tbody tr th:only-of-type {\n",
       "        vertical-align: middle;\n",
       "    }\n",
       "\n",
       "    .dataframe tbody tr th {\n",
       "        vertical-align: top;\n",
       "    }\n",
       "\n",
       "    .dataframe thead th {\n",
       "        text-align: right;\n",
       "    }\n",
       "</style>\n",
       "<table border=\"1\" class=\"dataframe\">\n",
       "  <thead>\n",
       "    <tr style=\"text-align: right;\">\n",
       "      <th></th>\n",
       "      <th>CustomerID</th>\n",
       "      <th>Recency</th>\n",
       "      <th>Frequency</th>\n",
       "      <th>Monetary</th>\n",
       "      <th>AOV</th>\n",
       "    </tr>\n",
       "  </thead>\n",
       "  <tbody>\n",
       "    <tr>\n",
       "      <th>0</th>\n",
       "      <td>C0001</td>\n",
       "      <td>67</td>\n",
       "      <td>14</td>\n",
       "      <td>865.91</td>\n",
       "      <td>61.850714</td>\n",
       "    </tr>\n",
       "    <tr>\n",
       "      <th>1</th>\n",
       "      <td>C0002</td>\n",
       "      <td>8</td>\n",
       "      <td>10</td>\n",
       "      <td>1445.05</td>\n",
       "      <td>144.505000</td>\n",
       "    </tr>\n",
       "    <tr>\n",
       "      <th>2</th>\n",
       "      <td>C0003</td>\n",
       "      <td>223</td>\n",
       "      <td>9</td>\n",
       "      <td>467.40</td>\n",
       "      <td>51.933333</td>\n",
       "    </tr>\n",
       "    <tr>\n",
       "      <th>3</th>\n",
       "      <td>C0004</td>\n",
       "      <td>49</td>\n",
       "      <td>10</td>\n",
       "      <td>421.23</td>\n",
       "      <td>42.123000</td>\n",
       "    </tr>\n",
       "    <tr>\n",
       "      <th>4</th>\n",
       "      <td>C0005</td>\n",
       "      <td>11</td>\n",
       "      <td>15</td>\n",
       "      <td>1654.47</td>\n",
       "      <td>110.298000</td>\n",
       "    </tr>\n",
       "  </tbody>\n",
       "</table>\n",
       "</div>"
      ],
      "text/plain": [
       "  CustomerID  Recency  Frequency  Monetary         AOV\n",
       "0      C0001       67         14    865.91   61.850714\n",
       "1      C0002        8         10   1445.05  144.505000\n",
       "2      C0003      223          9    467.40   51.933333\n",
       "3      C0004       49         10    421.23   42.123000\n",
       "4      C0005       11         15   1654.47  110.298000"
      ]
     },
     "execution_count": 68,
     "metadata": {},
     "output_type": "execute_result"
    }
   ],
   "source": [
    "# Snapshot date is 1 day after the most recent order\n",
    "snapshot_date = df['OrderDate'].max() + dt.timedelta(days=1)\n",
    "\n",
    "# Calculate RFM features\n",
    "rfm = df.groupby('CustomerID').agg({\n",
    "    'OrderDate': lambda x: (snapshot_date - x.max()).days,\n",
    "    'OrderID': 'nunique',\n",
    "    'OrderAmount': ['sum', 'mean']\n",
    "}).reset_index()\n",
    "\n",
    "# Rename columns\n",
    "rfm.columns = ['CustomerID', 'Recency', 'Frequency', 'Monetary', 'AOV']\n",
    "rfm.head()"
   ]
  },
  {
   "cell_type": "markdown",
   "id": "522c6825-5199-434f-b4af-1adf1fccf1fe",
   "metadata": {},
   "source": [
    "# 4. Model Building"
   ]
  },
  {
   "cell_type": "code",
   "execution_count": 71,
   "id": "3b7acf55-f3f9-4361-ab12-b0c036e66a98",
   "metadata": {},
   "outputs": [
    {
     "name": "stdout",
     "output_type": "stream",
     "text": [
      "MAE: 35.98\n",
      "RMSE: 89.33\n"
     ]
    }
   ],
   "source": [
    "# Train/Test split\n",
    "X = rfm[['Recency', 'Frequency', 'AOV']]\n",
    "y = rfm['Monetary']\n",
    "\n",
    "X_train, X_test, y_train, y_test = train_test_split(X, y, test_size=0.2, random_state=42)\n",
    "\n",
    "# Train Random Forest\n",
    "rf_model = RandomForestRegressor(n_estimators=100, random_state=42)\n",
    "rf_model.fit(X_train, y_train)\n",
    "\n",
    "# Predict\n",
    "y_pred = rf_model.predict(X_test)\n",
    "\n",
    "# Evaluation\n",
    "mae = mean_absolute_error(y_test, y_pred)\n",
    "rmse = np.sqrt(mean_squared_error(y_test, y_pred))\n",
    "\n",
    "print(f\"MAE: {mae:.2f}\")\n",
    "print(f\"RMSE: {rmse:.2f}\")"
   ]
  },
  {
   "cell_type": "markdown",
   "id": "af1ec789-262c-42ad-864e-d4921cb49158",
   "metadata": {},
   "source": [
    "# 5. Predict and Segment Customers"
   ]
  },
  {
   "cell_type": "code",
   "execution_count": 74,
   "id": "fe7c8303-3302-4353-9a9e-63bf582b11ab",
   "metadata": {},
   "outputs": [
    {
     "data": {
      "text/html": [
       "<div>\n",
       "<style scoped>\n",
       "    .dataframe tbody tr th:only-of-type {\n",
       "        vertical-align: middle;\n",
       "    }\n",
       "\n",
       "    .dataframe tbody tr th {\n",
       "        vertical-align: top;\n",
       "    }\n",
       "\n",
       "    .dataframe thead th {\n",
       "        text-align: right;\n",
       "    }\n",
       "</style>\n",
       "<table border=\"1\" class=\"dataframe\">\n",
       "  <thead>\n",
       "    <tr style=\"text-align: right;\">\n",
       "      <th></th>\n",
       "      <th>CustomerID</th>\n",
       "      <th>Recency</th>\n",
       "      <th>Frequency</th>\n",
       "      <th>Monetary</th>\n",
       "      <th>AOV</th>\n",
       "      <th>Predicted_LTV</th>\n",
       "      <th>Segment</th>\n",
       "    </tr>\n",
       "  </thead>\n",
       "  <tbody>\n",
       "    <tr>\n",
       "      <th>0</th>\n",
       "      <td>C0001</td>\n",
       "      <td>67</td>\n",
       "      <td>14</td>\n",
       "      <td>865.91</td>\n",
       "      <td>61.850714</td>\n",
       "      <td>864.6842</td>\n",
       "      <td>Low Value</td>\n",
       "    </tr>\n",
       "    <tr>\n",
       "      <th>1</th>\n",
       "      <td>C0002</td>\n",
       "      <td>8</td>\n",
       "      <td>10</td>\n",
       "      <td>1445.05</td>\n",
       "      <td>144.505000</td>\n",
       "      <td>1451.6758</td>\n",
       "      <td>High Value</td>\n",
       "    </tr>\n",
       "    <tr>\n",
       "      <th>2</th>\n",
       "      <td>C0003</td>\n",
       "      <td>223</td>\n",
       "      <td>9</td>\n",
       "      <td>467.40</td>\n",
       "      <td>51.933333</td>\n",
       "      <td>441.0579</td>\n",
       "      <td>Low Value</td>\n",
       "    </tr>\n",
       "    <tr>\n",
       "      <th>3</th>\n",
       "      <td>C0004</td>\n",
       "      <td>49</td>\n",
       "      <td>10</td>\n",
       "      <td>421.23</td>\n",
       "      <td>42.123000</td>\n",
       "      <td>451.5268</td>\n",
       "      <td>Low Value</td>\n",
       "    </tr>\n",
       "    <tr>\n",
       "      <th>4</th>\n",
       "      <td>C0005</td>\n",
       "      <td>11</td>\n",
       "      <td>15</td>\n",
       "      <td>1654.47</td>\n",
       "      <td>110.298000</td>\n",
       "      <td>1619.5894</td>\n",
       "      <td>High Value</td>\n",
       "    </tr>\n",
       "  </tbody>\n",
       "</table>\n",
       "</div>"
      ],
      "text/plain": [
       "  CustomerID  Recency  Frequency  Monetary         AOV  Predicted_LTV  \\\n",
       "0      C0001       67         14    865.91   61.850714       864.6842   \n",
       "1      C0002        8         10   1445.05  144.505000      1451.6758   \n",
       "2      C0003      223          9    467.40   51.933333       441.0579   \n",
       "3      C0004       49         10    421.23   42.123000       451.5268   \n",
       "4      C0005       11         15   1654.47  110.298000      1619.5894   \n",
       "\n",
       "      Segment  \n",
       "0   Low Value  \n",
       "1  High Value  \n",
       "2   Low Value  \n",
       "3   Low Value  \n",
       "4  High Value  "
      ]
     },
     "execution_count": 74,
     "metadata": {},
     "output_type": "execute_result"
    }
   ],
   "source": [
    "# Predict LTV for all customers\n",
    "rfm['Predicted_LTV'] = rf_model.predict(X)\n",
    "\n",
    "# Segment customers\n",
    "def segment(ltv):\n",
    "    if ltv >= rfm['Predicted_LTV'].quantile(0.75):\n",
    "        return 'High Value'\n",
    "    elif ltv >= rfm['Predicted_LTV'].quantile(0.50):\n",
    "        return 'Mid Value'\n",
    "    else:\n",
    "        return 'Low Value'\n",
    "\n",
    "rfm['Segment'] = rfm['Predicted_LTV'].apply(segment)\n",
    "rfm.head()"
   ]
  },
  {
   "cell_type": "markdown",
   "id": "884c31dd-87ec-46b6-a3a8-b0d1eb7b845d",
   "metadata": {},
   "source": [
    "# 6. Save the results"
   ]
  },
  {
   "cell_type": "code",
   "execution_count": 77,
   "id": "22a1aa09-ab8e-4a7e-8f6a-3b99b6f96dfd",
   "metadata": {},
   "outputs": [],
   "source": [
    "# Save the final predictions\n",
    "rfm.to_csv('final_ltv_predictions.csv', index=False)"
   ]
  },
  {
   "cell_type": "markdown",
   "id": "f0ce7f7c-7081-40d6-9d3f-cb69eb8fdbbe",
   "metadata": {},
   "source": [
    "# 7. Visualization"
   ]
  },
  {
   "cell_type": "code",
   "execution_count": 80,
   "id": "71a9ccf0-1590-4450-bc53-80d3dd53e7df",
   "metadata": {},
   "outputs": [
    {
     "data": {
      "image/png": "[encoded data removed]",
      "text/plain": [
       "<Figure size 640x480 with 1 Axes>"
      ]
     },
     "metadata": {},
     "output_type": "display_data"
    },
    {
     "data": {
      "image/png": "[encoded data removed]",
      "text/plain": [
       "<Figure size 640x480 with 1 Axes>"
      ]
     },
     "metadata": {},
     "output_type": "display_data"
    }
   ],
   "source": [
    "# Visualize predicted LTV distribution\n",
    "sns.histplot(rfm['Predicted_LTV'], bins=30, kde=True)\n",
    "plt.title('Predicted LTV Distribution')\n",
    "plt.show()\n",
    "\n",
    "# Segment distribution\n",
    "sns.countplot(data=rfm, x='Segment', order=['High Value', 'Mid Value', 'Low Value'])\n",
    "plt.title('Customer Segments by Predicted LTV')\n",
    "plt.show()"
   ]
  },
  {
   "cell_type": "markdown",
   "id": "611b4ebf-eb6b-4af9-b41c-27373026638e",
   "metadata": {},
   "source": [
    "# CONCLUSION\n",
    "\n",
    "In this project, we developed a machine learning pipeline to predict Customer Lifetime Value (LTV) based on historical transaction data. By engineering key features such as Recency, Frequency, and Average Order Value (AOV), we trained a Random Forest Regressor to estimate the total monetary value a customer is likely to contribute over time.\n",
    "\n",
    "Key outcomes:\n",
    "- Model Performance was evaluated using MAE and RMSE, providing a reasonable estimate of prediction accuracy.\n",
    "- Customer Segmentation was performed using the predicted LTV values, enabling the business to classify customers into High, Mid, and Low value segments.\n",
    "- The final results were saved in a CSV format, which can be used by the marketing or CRM team for targeted campaigns and retention strategies.\n",
    "\n",
    "This model provides a scalable and data-driven foundation for personalizing marketing efforts, optimizing resource allocation, and improving customer engagement strategies.\n",
    "\n"
   ]
  }
 ],
 "metadata": {
  "kernelspec": {
   "display_name": "Python 3 (ipykernel)",
   "language": "python",
   "name": "python3"
  },
  "language_info": {
   "codemirror_mode": {
    "name": "ipython",
    "version": 3
   },
   "file_extension": ".py",
   "mimetype": "text/x-python",
   "name": "python",
   "nbconvert_exporter": "python",
   "pygments_lexer": "ipython3",
   "version": "3.12.7"
  }
 },
 "nbformat": 4,
 "nbformat_minor": 5
}
